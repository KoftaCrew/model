{
  "nbformat": 4,
  "nbformat_minor": 0,
  "metadata": {
    "colab": {
      "provenance": []
    },
    "kernelspec": {
      "name": "python3",
      "display_name": "Python 3"
    },
    "language_info": {
      "name": "python"
    }
  },
  "cells": [
    {
      "cell_type": "code",
      "source": [
        "from sentence_transformers import CrossEncoder\n",
        "\n",
        "# TODO fine-tune\n",
        "model = CrossEncoder('cross-encoder/stsb-distilroberta-base', max_length=512)"
      ],
      "metadata": {
        "id": "25N_LvraG68q"
      },
      "execution_count": null,
      "outputs": []
    },
    {
      "cell_type": "code",
      "source": [
        "from sklearn.cluster import KMeans\n",
        "from sentence_transformers import SentenceTransformer\n",
        "\n",
        "# TODO fine-tune\n",
        "embedder = SentenceTransformer('all-MiniLM-L6-v2')"
      ],
      "metadata": {
        "id": "gjl78HpWHiu_"
      },
      "execution_count": null,
      "outputs": []
    },
    {
      "cell_type": "code",
      "source": [
        "# Irrelevant to the model at the moment\n",
        "question_title = \"Who was the last pharaoh of ancient Egypt's New Kingdom? When did he reign?\"\n",
        "# (token, max_grade)\n",
        "\n",
        "tokens = [\n",
        "    (\"Pharaoh Ramses XI\", 1),\n",
        "    (\"Reigned from 1107 BC to 1078 BC\", 1)\n",
        "    ]\n",
        "\n",
        "student_answer = [\"Reigned from 1107 BC to 1100 BC\", \"Pharaoh Hatshepsut\"]"
      ],
      "metadata": {
        "id": "UuJkouJWEpkm"
      },
      "execution_count": 34,
      "outputs": []
    },
    {
      "cell_type": "code",
      "source": [
        "def cluster_pairs(model_answer, student_answer):\n",
        "  # TODO is worth it?\n",
        "  \"\"\"\n",
        "  Perform K-means clustering for model answer tokens student answer tokens\n",
        "  instead of computing all possible combinations\n",
        "  \"\"\"\n",
        "  num_clusters = len(model_answer)\n",
        "\n",
        "  corpus = model_answer + student_answer\n",
        "  corpus_embeddings = embedder.encode(corpus)\n",
        "\n",
        "  clustering_model = KMeans(n_clusters=num_clusters)\n",
        "  clustering_model.fit(corpus_embeddings)\n",
        "\n",
        "  clustered_sentences = [[] for i in range(num_clusters)]\n",
        "\n",
        "  for sentence_id, cluster_id in enumerate(clustering_model.labels_):\n",
        "    clustered_sentences[cluster_id].append(corpus[sentence_id])\n",
        "\n",
        "  return clustered_sentences"
      ],
      "metadata": {
        "id": "RqfOFjkZJXNm"
      },
      "execution_count": 35,
      "outputs": []
    },
    {
      "cell_type": "code",
      "source": [
        "tokens_only = [ans for ans, _ in tokens]\n",
        "\n",
        "ret = cluster_pairs(tokens_only, student_answer)\n",
        "print(ret)"
      ],
      "metadata": {
        "colab": {
          "base_uri": "https://localhost:8080/"
        },
        "id": "K0GxEf4mJBDI",
        "outputId": "d7e45974-1ed8-4582-a386-7dfdbd93a424"
      },
      "execution_count": 38,
      "outputs": [
        {
          "output_type": "stream",
          "name": "stdout",
          "text": [
            "[['Reigned from 1107 BC to 1078 BC', 'Reigned from 1107 BC to 1100 BC'], ['Pharaoh Ramses XI', 'Pharaoh Hatshepsut.']]\n"
          ]
        },
        {
          "output_type": "stream",
          "name": "stderr",
          "text": [
            "/usr/local/lib/python3.10/dist-packages/sklearn/cluster/_kmeans.py:870: FutureWarning: The default value of `n_init` will change from 10 to 'auto' in 1.4. Set the value of `n_init` explicitly to suppress the warning\n",
            "  warnings.warn(\n"
          ]
        }
      ]
    },
    {
      "cell_type": "code",
      "source": [
        "# TODO return grade after applying threshold\n",
        "scores = model.predict(ret)\n",
        "ret = [(pair, score) for pair, score in zip(ret, scores)]"
      ],
      "metadata": {
        "id": "xGnRorfYKEje"
      },
      "execution_count": 45,
      "outputs": []
    },
    {
      "cell_type": "code",
      "source": [
        "ret"
      ],
      "metadata": {
        "colab": {
          "base_uri": "https://localhost:8080/"
        },
        "id": "i-ODtSBvMnuX",
        "outputId": "c9c67079-5996-4b55-80cd-09f1fcfbf753"
      },
      "execution_count": 46,
      "outputs": [
        {
          "output_type": "execute_result",
          "data": {
            "text/plain": [
              "[(['Reigned from 1107 BC to 1078 BC', 'Reigned from 1107 BC to 1100 BC'],\n",
              "  0.6932955),\n",
              " (['Pharaoh Ramses XI', 'Pharaoh Hatshepsut.'], 0.24468662)]"
            ]
          },
          "metadata": {},
          "execution_count": 46
        }
      ]
    },
    {
      "cell_type": "code",
      "source": [],
      "metadata": {
        "id": "YEpsJxMdMrtj"
      },
      "execution_count": null,
      "outputs": []
    }
  ]
}